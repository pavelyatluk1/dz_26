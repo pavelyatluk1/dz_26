{
 "cells": [
  {
   "cell_type": "markdown",
   "id": "96277f6d",
   "metadata": {},
   "source": [
    "#### Pavlo Yatluk\n",
    "#### dz_26_1"
   ]
  },
  {
   "cell_type": "markdown",
   "id": "8cbfb8f6",
   "metadata": {},
   "source": [
    "### ЗАВДАННЯ\n"
   ]
  },
  {
   "cell_type": "markdown",
   "id": "9f38c783",
   "metadata": {},
   "source": [
    "#### Ймовірність того, що телевізор витримає гарантований термін роботи дорівнює 0,9 для всіх телевізорів, які обслуговує гарантійна майстерня. Оцінити ймовірність того, що число телевізорів, які витримають гарантійний термін буде в межах [85:95]"
   ]
  },
  {
   "cell_type": "markdown",
   "id": "020bedda",
   "metadata": {},
   "source": [
    "### ВИРІШЕННЯ"
   ]
  },
  {
   "cell_type": "markdown",
   "id": "19a4bd63",
   "metadata": {},
   "source": [
    "#### Для вирішення завдання використовуємо теорему Муавра - Лапласа, згідно якої, якщо здійснюється n - незалежних експерементів, у кожному з яких ймовірність появи випадкової події А є сталою величиною і дорівнює - p, для інтервалу [al : bt]  справедлива ріність,\n",
    "\n",
    "\n",
    "\n",
    "\n",
    "\n",
    "\n",
    "\n"
   ]
  },
  {
   "cell_type": "markdown",
   "id": "44bb5053",
   "metadata": {},
   "source": [
    "#### P(al < Y < bt) = Ф ((bt - n*p) / n*p*q ** 0.5) - Ф ((at - n*p) / n*p*q ** 0.5)"
   ]
  },
  {
   "cell_type": "markdown",
   "id": "fba4c6ec",
   "metadata": {},
   "source": [
    "#### де,\n",
    "\n",
    "#### p = 0.9\n",
    "#### q = 1 - p = 0.1 - ймовірність зворотньої події\n",
    "#### n = 100 -  кількість експерементів\n",
    "#### al = 85\n",
    "#### bt = 95"
   ]
  },
  {
   "cell_type": "markdown",
   "id": "ca7d13c4",
   "metadata": {},
   "source": [
    "#### P (85 < Y < 95) = Ф((95 - 100 * 0,9) / ((0,9 * 0,1 * 100) ** 0,5)) - Ф ((85 - 100 * 0,9) / ((0,9 * 0,1 * 100) ** 0,5)) = Ф (5 / 3) - Ф (- (5 / 3)) =\n",
    "\n",
    "#### = Ф (1.67) + Ф (1.67) = 0,45254 + 0,45254 = 0,90508\n",
    "\n"
   ]
  },
  {
   "cell_type": "markdown",
   "id": "ce041433",
   "metadata": {},
   "source": [
    "### ВІДПОВІДЬ"
   ]
  },
  {
   "cell_type": "markdown",
   "id": "c9e78dd5",
   "metadata": {},
   "source": [
    "#### Ймовірність того, що число телевізорів, які витримають гарантійний термін буде в межах [85:95] дорівнює 0,90508 обо 90,508% "
   ]
  }
 ],
 "metadata": {
  "kernelspec": {
   "display_name": "Python 3 (ipykernel)",
   "language": "python",
   "name": "python3"
  },
  "language_info": {
   "codemirror_mode": {
    "name": "ipython",
    "version": 3
   },
   "file_extension": ".py",
   "mimetype": "text/x-python",
   "name": "python",
   "nbconvert_exporter": "python",
   "pygments_lexer": "ipython3",
   "version": "3.10.8"
  }
 },
 "nbformat": 4,
 "nbformat_minor": 5
}
