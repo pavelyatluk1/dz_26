{
 "cells": [
  {
   "cell_type": "markdown",
   "id": "d11a8beb",
   "metadata": {},
   "source": [
    "#### Pavlo Yatluk\n",
    "#### dz_26_2"
   ]
  },
  {
   "cell_type": "markdown",
   "id": "15ec3509",
   "metadata": {},
   "source": [
    "### ЗАВДАННЯ"
   ]
  },
  {
   "cell_type": "markdown",
   "id": "955cfc7c",
   "metadata": {},
   "source": [
    "При вивченні випадкової величини Х у результаті 40 незалежних спостережень дістали вибірку - 10, 13, 10, 9, 9, 12, 12, 6, 7, 9, 8, 9, 11, 9, 14, 13, 9, 8, 8, 7, 10, 10, 11, 11, 11, 12, 8, 7, 9, 10, 14, 13, 8, 8, 9, 10, 11, 11, 12, 12. Побудувати дискретний статистичний розподіл для цієї вибірки, а також полігон частот і F*(x). Знайти моду і медіану."
   ]
  },
  {
   "cell_type": "markdown",
   "id": "43d55e60",
   "metadata": {},
   "source": [
    "### ВИРІШЕННЯ"
   ]
  },
  {
   "cell_type": "markdown",
   "id": "d455c60f",
   "metadata": {},
   "source": [
    "#### 1. Будуємо таблицю дискретного частотного розподілу"
   ]
  },
  {
   "cell_type": "markdown",
   "id": "f8d419d8",
   "metadata": {},
   "source": [
    "|№      | 1      | 2      | 3      | 4      | 5      | 6      | 7      | 8      | 9      | Сумма  | \n",
    "|:---   | :---:  | :---:  | :---:  | :---:  | :---:  | :---:  | :---:  | :---:  | :---:  | ---:   |\n",
    "|x(i)   | 6      | 7      | 8      | 9      | 10     | 11     | 12     | 13     | 14     |        |\n",
    "|n(x)   | 1      | 3      | 6      | 8      | 6      | 6      | 5      | 3      | 2      | 40     |\n",
    "|n(x)/n | 0.025  | 0.075  | 0.15   | 0.2    | 0.15   | 0.15   | 0.125  | 0.075  | 0.05   |  1     |"
   ]
  },
  {
   "cell_type": "markdown",
   "id": "c3cf53e8",
   "metadata": {},
   "source": [
    "#### 2. Будуємо полігон частот "
   ]
  },
  {
   "cell_type": "markdown",
   "id": "b43d178d",
   "metadata": {},
   "source": [
    "F*(x) = n(x) / n, де n - об'єм вибірки n = 40"
   ]
  },
  {
   "cell_type": "markdown",
   "id": "2e534211",
   "metadata": {},
   "source": [
    "|№      | 1      | 2      | 3      | 4      | 5      | 6      | 7      | 8      | 9      | \n",
    "|:---   | :---:  | :---:  | :---:  | :---:  | :---:  | :---:  | :---:  | :---:  |   ---: |\n",
    "|n(x)   | 1      | 3      | 6      | 8      | 6      | 6      | 5      | 3      | 2      | \n",
    "|n(x)/n | 0.025  | 0.1    | 0.25   | 0.45   | 0.60   | 0.75   | 0.875  | 0.95   | 1      |  "
   ]
  },
  {
   "cell_type": "markdown",
   "id": "a93c911d",
   "metadata": {},
   "source": [
    "#### 3. Визначення моди - Мо* - варіанта x(i) з найбільшою частотою n(x), \n",
    "\n"
   ]
  },
  {
   "cell_type": "markdown",
   "id": "3351e9b1",
   "metadata": {},
   "source": [
    "#### Mo* = 9"
   ]
  },
  {
   "cell_type": "markdown",
   "id": "289ada1a",
   "metadata": {},
   "source": [
    "#### 4. Визначення медіани - Ме* - варіанта x(i), яка ділить варіаційний ряд на дві частини рівні за кількістю варіант"
   ]
  },
  {
   "cell_type": "markdown",
   "id": "72b7281d",
   "metadata": {},
   "source": [
    "#### Оскільки  даний варіаційний ряд є непарним числом - 9, то медіаною буде варіанта під номером № = 5, тобто\n",
    "#### Me* = 10"
   ]
  }
 ],
 "metadata": {
  "kernelspec": {
   "display_name": "Python 3 (ipykernel)",
   "language": "python",
   "name": "python3"
  },
  "language_info": {
   "codemirror_mode": {
    "name": "ipython",
    "version": 3
   },
   "file_extension": ".py",
   "mimetype": "text/x-python",
   "name": "python",
   "nbconvert_exporter": "python",
   "pygments_lexer": "ipython3",
   "version": "3.10.8"
  }
 },
 "nbformat": 4,
 "nbformat_minor": 5
}
